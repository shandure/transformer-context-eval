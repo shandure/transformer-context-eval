{
 "cells": [
  {
   "cell_type": "markdown",
   "metadata": {},
   "source": [
    "# 📝 Baseline Evaluation Notebook\n",
    "\n",
    "This notebook demonstrates how to run the **baseline evaluation pipeline**.\n",
    "By default, it uses **DeepSeek-R1-Distill-Qwen-7B**, the baseline model from my MSc project.\n",
    "\n",
    "👉 You can replace it with any Hugging Face model by editing the `MODEL_NAME` variable."
   ]
  },
  {
   "cell_type": "code",
   "execution_count": null,
   "metadata": {},
   "outputs": [],
   "source": [
    "# --- Parameters ---\n",
    "MODEL_NAME = \"deepseek-ai/deepseek-r1-distill-qwen-7b\"  # baseline\n",
    "MAX_INPUT_TOKENS = 4096\n",
    "NUM_TASKS = 10  # small for demo; increase for full runs"
   ]
  },
  {
   "cell_type": "code",
   "execution_count": null,
   "metadata": {},
   "outputs": [],
   "source": [
    "# Install dependencies (skip if already installed in your environment)\n",
    "!pip install -r ../requirements.txt"
   ]
  },
  {
   "cell_type": "code",
   "execution_count": null,
   "metadata": {},
   "outputs": [],
   "source": [
    "# Step 1: Build retrieval dataset\n",
    "!python ../scripts/build_retrieval_dataset.py \\\n",
    "  --tokenizer_name $MODEL_NAME \\\n",
    "  --class_type B --num_tasks $NUM_TASKS --num_distractors 20 \\\n",
    "  --out_csv ../data/processed/demo_baseline.csv"
   ]
  },
  {
   "cell_type": "code",
   "execution_count": null,
   "metadata": {},
   "outputs": [],
   "source": [
    "# Step 2: Truncate prompts\n",
    "!python ../scripts/truncate_prompts.py \\\n",
    "  --in_csv ../data/processed/demo_baseline.csv \\\n",
    "  --out_csv ../data/processed/demo_baseline_truncated.csv \\\n",
    "  --tokenizer_name $MODEL_NAME \\\n",
    "  --max_input_tokens $MAX_INPUT_TOKENS"
   ]
  },
  {
   "cell_type": "code",
   "execution_count": null,
   "metadata": {},
   "outputs": [],
   "source": [
    "# Step 3: Run evaluation\n",
    "!python -m src.run_retrieval_eval \\\n",
    "  --model_name $MODEL_NAME \\\n",
    "  --data_path ../data/processed/demo_baseline_truncated.csv \\\n",
    "  --output_path ../results/demo_baseline_results.csv \\\n",
    "  --max_tokens 1024 \\\n",
    "  --max_input_tokens $MAX_INPUT_TOKENS"
   ]
  },
  {
   "cell_type": "markdown",
   "metadata": {},
   "source": [
    "## ✅ Results\n",
    "Your evaluation results will be saved in:\n",
    "```\n",
    "../results/demo_baseline_results.csv\n",
    "```"
   ]
  }
 ],
 "metadata": {
  "kernelspec": {
   "display_name": "Python 3",
   "language": "python",
   "name": "python3"
  },
  "language_info": {
   "name": "python",
   "version": "3.11"
  }
 },
 "nbformat": 4,
 "nbformat_minor": 5
}
